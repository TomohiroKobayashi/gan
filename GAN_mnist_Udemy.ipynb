{
 "cells": [
  {
   "cell_type": "code",
   "execution_count": 2,
   "metadata": {},
   "outputs": [
    {
     "name": "stderr",
     "output_type": "stream",
     "text": [
      "/Users/kobayashitomohiro/anaconda3/lib/python3.6/importlib/_bootstrap.py:219: RuntimeWarning: compiletime version 3.5 of module 'tensorflow.python.framework.fast_tensor_util' does not match runtime version 3.6\n",
      "  return f(*args, **kwds)\n",
      "/Users/kobayashitomohiro/anaconda3/lib/python3.6/site-packages/h5py/__init__.py:34: FutureWarning: Conversion of the second argument of issubdtype from `float` to `np.floating` is deprecated. In future, it will be treated as `np.float64 == np.dtype(float).type`.\n",
      "  from ._conv import register_converters as _register_converters\n"
     ]
    }
   ],
   "source": [
    "import matplotlib.pyplot as plt\n",
    "%matplotlib inline\n",
    "\n",
    "import pickle as pkl\n",
    "import numpy as np\n",
    "import tensorflow as tf"
   ]
  },
  {
   "cell_type": "code",
   "execution_count": 5,
   "metadata": {},
   "outputs": [
    {
     "name": "stdout",
     "output_type": "stream",
     "text": [
      "WARNING:tensorflow:From <ipython-input-5-bf008b82466b>:2: read_data_sets (from tensorflow.contrib.learn.python.learn.datasets.mnist) is deprecated and will be removed in a future version.\n",
      "Instructions for updating:\n",
      "Please use alternatives such as official/mnist/dataset.py from tensorflow/models.\n",
      "WARNING:tensorflow:From /Users/kobayashitomohiro/anaconda3/lib/python3.6/site-packages/tensorflow/contrib/learn/python/learn/datasets/mnist.py:260: maybe_download (from tensorflow.contrib.learn.python.learn.datasets.base) is deprecated and will be removed in a future version.\n",
      "Instructions for updating:\n",
      "Please write your own downloading logic.\n",
      "WARNING:tensorflow:From /Users/kobayashitomohiro/anaconda3/lib/python3.6/site-packages/tensorflow/contrib/learn/python/learn/datasets/base.py:252: _internal_retry.<locals>.wrap.<locals>.wrapped_fn (from tensorflow.contrib.learn.python.learn.datasets.base) is deprecated and will be removed in a future version.\n",
      "Instructions for updating:\n",
      "Please use urllib or similar directly.\n",
      "Successfully downloaded train-images-idx3-ubyte.gz 9912422 bytes.\n",
      "WARNING:tensorflow:From /Users/kobayashitomohiro/anaconda3/lib/python3.6/site-packages/tensorflow/contrib/learn/python/learn/datasets/mnist.py:262: extract_images (from tensorflow.contrib.learn.python.learn.datasets.mnist) is deprecated and will be removed in a future version.\n",
      "Instructions for updating:\n",
      "Please use tf.data to implement this functionality.\n",
      "Extracting MNIST_data/train-images-idx3-ubyte.gz\n",
      "Successfully downloaded train-labels-idx1-ubyte.gz 28881 bytes.\n",
      "WARNING:tensorflow:From /Users/kobayashitomohiro/anaconda3/lib/python3.6/site-packages/tensorflow/contrib/learn/python/learn/datasets/mnist.py:267: extract_labels (from tensorflow.contrib.learn.python.learn.datasets.mnist) is deprecated and will be removed in a future version.\n",
      "Instructions for updating:\n",
      "Please use tf.data to implement this functionality.\n",
      "Extracting MNIST_data/train-labels-idx1-ubyte.gz\n",
      "Successfully downloaded t10k-images-idx3-ubyte.gz 1648877 bytes.\n",
      "Extracting MNIST_data/t10k-images-idx3-ubyte.gz\n",
      "Successfully downloaded t10k-labels-idx1-ubyte.gz 4542 bytes.\n",
      "Extracting MNIST_data/t10k-labels-idx1-ubyte.gz\n",
      "WARNING:tensorflow:From /Users/kobayashitomohiro/anaconda3/lib/python3.6/site-packages/tensorflow/contrib/learn/python/learn/datasets/mnist.py:290: DataSet.__init__ (from tensorflow.contrib.learn.python.learn.datasets.mnist) is deprecated and will be removed in a future version.\n",
      "Instructions for updating:\n",
      "Please use alternatives such as official/mnist/dataset.py from tensorflow/models.\n"
     ]
    }
   ],
   "source": [
    "from tensorflow.examples.tutorials.mnist import input_data\n",
    "mnist = input_data.read_data_sets(\"MNIST_data\")"
   ]
  },
  {
   "cell_type": "code",
   "execution_count": 13,
   "metadata": {
    "collapsed": true
   },
   "outputs": [],
   "source": [
    "def model_inputs(real_dim, z_dim):\n",
    "    input_real = tf.placeholder(tf.float32, (None, real_dim), name='input_real')\n",
    "    input_z = tf.placeholder(tf.float32, (None, z_dim), name='input_z')\n",
    "    \n",
    "    return input_real, input_z"
   ]
  },
  {
   "cell_type": "code",
   "execution_count": 14,
   "metadata": {
    "collapsed": true
   },
   "outputs": [],
   "source": [
    "def generator(z, out_dim, n_units=128, reuse=False,alpha=0.01 ):\n",
    "    with tf.variable_scope('generator', reuse=reuse):\n",
    "        h1 = tf.layers.dense(z, n_units, activation=None)\n",
    "        h1 = tf.maximum(alpha * h1 , h1) #LeakyReLU\n",
    "        \n",
    "        logits = tf.layers.dense(h1, out_dim, activation=None)\n",
    "        out = tf.tanh(logits)\n",
    "        \n",
    "        return out"
   ]
  },
  {
   "cell_type": "code",
   "execution_count": 21,
   "metadata": {
    "collapsed": true
   },
   "outputs": [],
   "source": [
    "def discriminator(x, n_units=128, reuse=False, alpha=0.01):\n",
    "    with tf.variable_scope('discriminator', reuse=reuse):\n",
    "        h1 = tf.layers.dense(x, n_units, activation=None)\n",
    "        h1 = tf.maximum(alpha*h1, h1)\n",
    "        logits = tf.layers.dense(h1, 1, activation=None)\n",
    "        out = tf.sigmoid(logits)\n",
    "        \n",
    "        return out, logits"
   ]
  },
  {
   "cell_type": "code",
   "execution_count": 22,
   "metadata": {
    "collapsed": true
   },
   "outputs": [],
   "source": [
    "#ハイパーパラメータの初期化\n",
    "\n",
    "input_size = 784\n",
    "z_size = 100\n",
    "g_hidden_size = 128\n",
    "d_hidden_size=128\n",
    "alpha=0.01\n",
    "smooth = 0.1#Dの学習を円滑にする調整１に近づくと学習が進まない"
   ]
  },
  {
   "cell_type": "markdown",
   "metadata": {},
   "source": [
    "計算グラフの定義\n",
    "1モデルの定義\n",
    "２損失関数を定義（G、D）\n",
    "３最適手法の定義"
   ]
  },
  {
   "cell_type": "code",
   "execution_count": 24,
   "metadata": {},
   "outputs": [],
   "source": [
    "#グラフの定義を行う\n",
    "tf.reset_default_graph()\n",
    "input_real, input_z = model_inputs(input_size, z_size)\n",
    "\n",
    "g_model = generator(input_z, input_size, n_units=g_hidden_size, alpha=alpha)\n",
    "\n",
    "d_model_real, d_logits_real = discriminator(input_real, n_units = d_hidden_size, alpha=alpha)\n",
    "d_model_fake, d_logits_fake = discriminator(g_model, reuse=True,alpha=alpha,n_units=d_hidden_size)"
   ]
  },
  {
   "cell_type": "markdown",
   "metadata": {},
   "source": [
    "損失関数の定義"
   ]
  },
  {
   "cell_type": "code",
   "execution_count": 28,
   "metadata": {},
   "outputs": [],
   "source": [
    "d_loss_real = tf.reduce_mean(tf.nn.sigmoid_cross_entropy_with_logits(logits=d_logits_real, \n",
    "                                                                    labels=tf.ones_like(d_logits_real)*(1-smooth)))\n",
    "\n",
    "d_loss_fake = tf.reduce_mean(tf.nn.sigmoid_cross_entropy_with_logits(logits=d_logits_fake,\n",
    "                                                                    labels = tf.zeros_like(d_logits_real)))\n",
    "d_loss = d_loss_real + d_loss_fake\n",
    "\n",
    "g_loss = tf.reduce_mean(tf.nn.sigmoid_cross_entropy_with_logits(logits=d_logits_fake,\n",
    "                                                               labels=tf.ones_like(d_logits_fake)))"
   ]
  },
  {
   "cell_type": "markdown",
   "metadata": {},
   "source": [
    "最適化"
   ]
  },
  {
   "cell_type": "code",
   "execution_count": 43,
   "metadata": {},
   "outputs": [],
   "source": [
    "#最適化の定義\n",
    "learning_rate=0.002\n",
    "\n",
    "t_vars = tf.trainable_variables()\n",
    "g_vars = [var for var in t_vars if var.name.startswith('generator')]\n",
    "d_vars = [var for var in t_vars if var.name.startswith('discriminator')]\n",
    "\n",
    "d_train_optimize = tf.train.AdamOptimizer(learning_rate).minimize(d_loss, var_list=d_vars)\n",
    "g_train_optimize = tf.train.AdamOptimizer(learning_rate).minimize(g_loss, var_list=g_vars)"
   ]
  },
  {
   "cell_type": "markdown",
   "metadata": {},
   "source": [
    "バッチデータ"
   ]
  },
  {
   "cell_type": "code",
   "execution_count": 32,
   "metadata": {
    "collapsed": true
   },
   "outputs": [],
   "source": [
    "batch_size = 100\n",
    "batch = mnist.train.next_batch(batch_size)"
   ]
  },
  {
   "cell_type": "code",
   "execution_count": 33,
   "metadata": {},
   "outputs": [
    {
     "data": {
      "text/plain": [
       "(array([[0., 0., 0., ..., 0., 0., 0.],\n",
       "        [0., 0., 0., ..., 0., 0., 0.],\n",
       "        [0., 0., 0., ..., 0., 0., 0.],\n",
       "        ...,\n",
       "        [0., 0., 0., ..., 0., 0., 0.],\n",
       "        [0., 0., 0., ..., 0., 0., 0.],\n",
       "        [0., 0., 0., ..., 0., 0., 0.]], dtype=float32),\n",
       " array([3, 4, 2, 0, 0, 5, 4, 8, 0, 0, 0, 8, 6, 2, 4, 3, 0, 9, 1, 4, 6, 1,\n",
       "        8, 9, 7, 4, 8, 4, 0, 3, 9, 5, 4, 7, 3, 0, 6, 2, 1, 8, 6, 9, 9, 3,\n",
       "        3, 0, 9, 5, 6, 9, 8, 8, 1, 0, 1, 8, 1, 7, 0, 2, 7, 5, 8, 0, 3, 6,\n",
       "        7, 0, 0, 7, 0, 8, 2, 4, 9, 8, 0, 0, 6, 6, 8, 8, 7, 2, 7, 6, 7, 5,\n",
       "        8, 9, 2, 8, 4, 2, 9, 6, 6, 0, 1, 9], dtype=uint8))"
      ]
     },
     "execution_count": 33,
     "metadata": {},
     "output_type": "execute_result"
    }
   ],
   "source": [
    "batch"
   ]
  },
  {
   "cell_type": "code",
   "execution_count": 34,
   "metadata": {},
   "outputs": [
    {
     "data": {
      "text/plain": [
       "array([[0., 0., 0., ..., 0., 0., 0.],\n",
       "       [0., 0., 0., ..., 0., 0., 0.],\n",
       "       [0., 0., 0., ..., 0., 0., 0.],\n",
       "       ...,\n",
       "       [0., 0., 0., ..., 0., 0., 0.],\n",
       "       [0., 0., 0., ..., 0., 0., 0.],\n",
       "       [0., 0., 0., ..., 0., 0., 0.]], dtype=float32)"
      ]
     },
     "execution_count": 34,
     "metadata": {},
     "output_type": "execute_result"
    }
   ],
   "source": [
    "batch[0]"
   ]
  },
  {
   "cell_type": "code",
   "execution_count": 35,
   "metadata": {},
   "outputs": [
    {
     "data": {
      "text/plain": [
       "100"
      ]
     },
     "execution_count": 35,
     "metadata": {},
     "output_type": "execute_result"
    }
   ],
   "source": [
    "len(batch[0])"
   ]
  },
  {
   "cell_type": "code",
   "execution_count": 36,
   "metadata": {},
   "outputs": [
    {
     "data": {
      "text/plain": [
       "784"
      ]
     },
     "execution_count": 36,
     "metadata": {},
     "output_type": "execute_result"
    }
   ],
   "source": [
    "len(batch[0][0])"
   ]
  },
  {
   "cell_type": "code",
   "execution_count": 38,
   "metadata": {},
   "outputs": [
    {
     "data": {
      "text/plain": [
       "3"
      ]
     },
     "execution_count": 38,
     "metadata": {},
     "output_type": "execute_result"
    }
   ],
   "source": [
    "batch[1][0]"
   ]
  },
  {
   "cell_type": "markdown",
   "metadata": {},
   "source": [
    "トレーニングの実行"
   ]
  },
  {
   "cell_type": "code",
   "execution_count": 46,
   "metadata": {},
   "outputs": [
    {
     "name": "stdout",
     "output_type": "stream",
     "text": [
      "エポック 1/100 D ロス: 0.3757 G ロス: 3.4056\n",
      "エポック 2/100 D ロス: 0.3933 G ロス: 3.5561\n",
      "エポック 3/100 D ロス: 0.6414 G ロス: 5.0322\n",
      "エポック 4/100 D ロス: 1.2384 G ロス: 2.0092\n",
      "エポック 5/100 D ロス: 1.1503 G ロス: 2.6992\n",
      "エポック 6/100 D ロス: 3.2092 G ロス: 1.8403\n",
      "エポック 7/100 D ロス: 0.5473 G ロス: 2.9018\n",
      "エポック 8/100 D ロス: 1.3826 G ロス: 1.5834\n",
      "エポック 9/100 D ロス: 1.4131 G ロス: 1.6986\n",
      "エポック 10/100 D ロス: 1.3603 G ロス: 1.7483\n",
      "エポック 11/100 D ロス: 1.5294 G ロス: 1.8700\n",
      "エポック 12/100 D ロス: 1.3793 G ロス: 1.1277\n",
      "エポック 13/100 D ロス: 1.8084 G ロス: 1.7306\n",
      "エポック 14/100 D ロス: 1.3027 G ロス: 1.6468\n",
      "エポック 15/100 D ロス: 1.2737 G ロス: 1.3384\n",
      "エポック 16/100 D ロス: 1.0487 G ロス: 1.5828\n",
      "エポック 17/100 D ロス: 1.0972 G ロス: 1.4616\n",
      "エポック 18/100 D ロス: 1.2929 G ロス: 2.0998\n",
      "エポック 19/100 D ロス: 1.1788 G ロス: 1.1844\n",
      "エポック 20/100 D ロス: 2.7305 G ロス: 1.5879\n",
      "エポック 21/100 D ロス: 1.0345 G ロス: 1.9695\n",
      "エポック 22/100 D ロス: 0.9971 G ロス: 1.9846\n",
      "エポック 23/100 D ロス: 1.5296 G ロス: 1.5549\n",
      "エポック 24/100 D ロス: 0.8802 G ロス: 1.9845\n",
      "エポック 25/100 D ロス: 1.4005 G ロス: 1.6486\n",
      "エポック 26/100 D ロス: 1.1075 G ロス: 2.2197\n",
      "エポック 27/100 D ロス: 0.8964 G ロス: 2.1595\n",
      "エポック 28/100 D ロス: 1.0208 G ロス: 1.4125\n",
      "エポック 29/100 D ロス: 1.3130 G ロス: 1.1300\n",
      "エポック 30/100 D ロス: 1.2717 G ロス: 1.4633\n",
      "エポック 31/100 D ロス: 0.8762 G ロス: 1.8560\n",
      "エポック 32/100 D ロス: 0.7464 G ロス: 2.4046\n",
      "エポック 33/100 D ロス: 1.2867 G ロス: 1.5636\n",
      "エポック 34/100 D ロス: 1.1262 G ロス: 1.7974\n",
      "エポック 35/100 D ロス: 0.8575 G ロス: 1.9623\n",
      "エポック 36/100 D ロス: 1.1656 G ロス: 2.1189\n",
      "エポック 37/100 D ロス: 1.0366 G ロス: 1.5571\n",
      "エポック 38/100 D ロス: 1.0329 G ロス: 1.7461\n",
      "エポック 39/100 D ロス: 0.8358 G ロス: 2.0066\n",
      "エポック 40/100 D ロス: 0.7037 G ロス: 3.1747\n",
      "エポック 41/100 D ロス: 0.8520 G ロス: 2.3096\n",
      "エポック 42/100 D ロス: 0.7611 G ロス: 2.0114\n",
      "エポック 43/100 D ロス: 0.8096 G ロス: 2.2431\n",
      "エポック 44/100 D ロス: 0.7748 G ロス: 2.2895\n",
      "エポック 45/100 D ロス: 1.0486 G ロス: 1.7513\n",
      "エポック 46/100 D ロス: 1.0998 G ロス: 1.4821\n",
      "エポック 47/100 D ロス: 1.1695 G ロス: 1.3524\n",
      "エポック 48/100 D ロス: 0.8947 G ロス: 2.5438\n",
      "エポック 49/100 D ロス: 0.8816 G ロス: 2.8163\n",
      "エポック 50/100 D ロス: 0.9007 G ロス: 1.7813\n",
      "エポック 51/100 D ロス: 0.8246 G ロス: 2.3251\n",
      "エポック 52/100 D ロス: 1.2383 G ロス: 1.4460\n",
      "エポック 53/100 D ロス: 1.0727 G ロス: 2.0679\n",
      "エポック 54/100 D ロス: 1.2134 G ロス: 1.8361\n",
      "エポック 55/100 D ロス: 1.2073 G ロス: 1.4707\n",
      "エポック 56/100 D ロス: 1.0511 G ロス: 1.9309\n",
      "エポック 57/100 D ロス: 0.9697 G ロス: 2.0833\n",
      "エポック 58/100 D ロス: 1.1762 G ロス: 2.0975\n",
      "エポック 59/100 D ロス: 0.9373 G ロス: 2.4205\n",
      "エポック 60/100 D ロス: 1.0630 G ロス: 1.4252\n",
      "エポック 61/100 D ロス: 1.1618 G ロス: 1.9244\n",
      "エポック 62/100 D ロス: 1.0047 G ロス: 1.5695\n",
      "エポック 63/100 D ロス: 1.0710 G ロス: 1.6790\n",
      "エポック 64/100 D ロス: 0.9995 G ロス: 1.8985\n",
      "エポック 65/100 D ロス: 1.2545 G ロス: 1.4994\n",
      "エポック 66/100 D ロス: 1.0180 G ロス: 1.4730\n",
      "エポック 67/100 D ロス: 1.1058 G ロス: 1.6235\n",
      "エポック 68/100 D ロス: 1.0959 G ロス: 1.7365\n",
      "エポック 69/100 D ロス: 0.9664 G ロス: 1.7069\n",
      "エポック 70/100 D ロス: 1.2395 G ロス: 1.3190\n",
      "エポック 71/100 D ロス: 0.8375 G ロス: 1.6557\n",
      "エポック 72/100 D ロス: 0.9111 G ロス: 1.7431\n",
      "エポック 73/100 D ロス: 1.1324 G ロス: 1.6895\n",
      "エポック 74/100 D ロス: 0.8811 G ロス: 1.8982\n",
      "エポック 75/100 D ロス: 0.9581 G ロス: 1.7763\n",
      "エポック 76/100 D ロス: 1.1174 G ロス: 1.5565\n",
      "エポック 77/100 D ロス: 1.2104 G ロス: 1.8860\n",
      "エポック 78/100 D ロス: 0.9971 G ロス: 2.0015\n",
      "エポック 79/100 D ロス: 1.1744 G ロス: 1.4803\n",
      "エポック 80/100 D ロス: 1.1016 G ロス: 1.6027\n",
      "エポック 81/100 D ロス: 0.9934 G ロス: 2.1016\n",
      "エポック 82/100 D ロス: 0.9866 G ロス: 1.3995\n",
      "エポック 83/100 D ロス: 1.2152 G ロス: 1.7186\n",
      "エポック 84/100 D ロス: 1.0304 G ロス: 1.4731\n",
      "エポック 85/100 D ロス: 0.9663 G ロス: 1.6087\n",
      "エポック 86/100 D ロス: 1.0144 G ロス: 1.6280\n",
      "エポック 87/100 D ロス: 1.0639 G ロス: 1.7778\n",
      "エポック 88/100 D ロス: 0.9886 G ロス: 1.8078\n",
      "エポック 89/100 D ロス: 0.9949 G ロス: 1.7888\n",
      "エポック 90/100 D ロス: 0.9794 G ロス: 1.8041\n",
      "エポック 91/100 D ロス: 1.0041 G ロス: 1.7111\n",
      "エポック 92/100 D ロス: 0.9710 G ロス: 1.7754\n",
      "エポック 93/100 D ロス: 1.1243 G ロス: 1.6394\n",
      "エポック 94/100 D ロス: 0.9272 G ロス: 1.8483\n",
      "エポック 95/100 D ロス: 1.2940 G ロス: 1.5523\n",
      "エポック 96/100 D ロス: 0.9409 G ロス: 1.5375\n",
      "エポック 97/100 D ロス: 1.0542 G ロス: 1.5044\n",
      "エポック 98/100 D ロス: 1.1202 G ロス: 1.5423\n",
      "エポック 99/100 D ロス: 1.0002 G ロス: 1.6483\n",
      "エポック 100/100 D ロス: 1.0577 G ロス: 1.8790\n"
     ]
    }
   ],
   "source": [
    "epochs = 100\n",
    "samples = []\n",
    "losses = []\n",
    "saver = tf.train.Saver(var_list = g_vars)\n",
    "with tf.Session() as sess:\n",
    "    sess.run(tf.global_variables_initializer())\n",
    "    for e in range(epochs):\n",
    "        for i in range(mnist.train.num_examples//batch_size):\n",
    "            batch = mnist.train.next_batch(batch_size)\n",
    "            \n",
    "            batch_images = batch[0].reshape(batch_size, 784)\n",
    "            batch_images = batch_images * 2 -1 #0~1->-1~1に変換\n",
    "            \n",
    "            #Generator\n",
    "            batch_z = np.random.uniform(-1,1,size = (batch_size, z_size))\n",
    "            \n",
    "            _ = sess.run(d_train_optimize, feed_dict={input_real: batch_images, input_z: batch_z})\n",
    "            _= sess.run(g_train_optimize, feed_dict = {input_z:batch_z})\n",
    "            \n",
    "        train_loss_d = sess.run(d_loss, {input_z: batch_z, input_real: batch_images})\n",
    "        train_loss_g = g_loss.eval({input_z: batch_z})\n",
    "        \n",
    "        print(\"エポック {}/{}\".format(e+1, epochs),\n",
    "        \"D ロス: {:.4f}\".format(train_loss_d),\n",
    "        \"G ロス: {:.4f}\".format(train_loss_g))\n",
    "        \n",
    "        losses.append((train_loss_d, train_loss_g))\n",
    "        \n",
    "        sample_z = np.random.uniform(-1,1,size=(16, z_size))\n",
    "        gen_samples = sess.run(generator(input_z, input_size, n_units=g_hidden_size,\n",
    "                                         reuse=True, alpha=alpha), feed_dict = {input_z: sample_z})\n",
    "        samples.append(gen_samples)\n",
    "        saver.save(sess, './checkpoints/genetator.ckpt')\n",
    "        \n",
    "with open('training_samples.pkl', 'wb') as f:\n",
    "    pkl.dump(samples, f)"
   ]
  },
  {
   "cell_type": "markdown",
   "metadata": {},
   "source": [
    "収束プロセスの可視化"
   ]
  },
  {
   "cell_type": "code",
   "execution_count": 48,
   "metadata": {},
   "outputs": [
    {
     "data": {
      "text/plain": [
       "<matplotlib.legend.Legend at 0x1c1c091860>"
      ]
     },
     "execution_count": 48,
     "metadata": {},
     "output_type": "execute_result"
    },
    {
     "data": {
      "image/png": "[encoded data removed]",
      "text/plain": [
       "<matplotlib.figure.Figure at 0x106d12978>"
      ]
     },
     "metadata": {},
     "output_type": "display_data"
    }
   ],
   "source": [
    "import matplotlib.pyplot as plt\n",
    "%matplotlib inline\n",
    "\n",
    "fig, ax = plt.subplots()\n",
    "losses = np.array(losses)\n",
    "\n",
    "plt.plot(losses.T[0], label=\"D\")\n",
    "plt.plot(losses.T[1], label='G')\n",
    "plt.title('Train Loss')\n",
    "plt.legend()"
   ]
  },
  {
   "cell_type": "markdown",
   "metadata": {},
   "source": [
    "イメージに変換して表示する"
   ]
  },
  {
   "cell_type": "code",
   "execution_count": 65,
   "metadata": {},
   "outputs": [],
   "source": [
    "def view_samples(epoch, samples):\n",
    "    fig, axes =plt.subplots(figsize=(7,7), ncols=4,nrows=4, sharey=True, sharex=True)\n",
    "    for ax,img in zip(axes.flatten(), samples[epoch]):\n",
    "        ax.xaxis.set_visible(False)\n",
    "        ax.yaxis.set_visible(False)\n",
    "        im = ax.imshow(img.reshape((28,28)), cmap='Greys_r')\n",
    "    return fig, axes"
   ]
  },
  {
   "cell_type": "code",
   "execution_count": 66,
   "metadata": {},
   "outputs": [],
   "source": [
    "with open('training_samples.pkl', 'rb') as f:\n",
    "    samples = pkl.load(f)"
   ]
  },
  {
   "cell_type": "code",
   "execution_count": 72,
   "metadata": {},
   "outputs": [
    {
     "data": {
      "image/png": "[encoded data removed]",
      "text/plain": [
       "<matplotlib.figure.Figure at 0x1c1e668160>"
      ]
     },
     "metadata": {},
     "output_type": "display_data"
    }
   ],
   "source": [
    "_ = view_samples(98, samples)"
   ]
  },
  {
   "cell_type": "code",
   "execution_count": 85,
   "metadata": {},
   "outputs": [
    {
     "ename": "TypeError",
     "evalue": "object of type 'numpy.float32' has no len()",
     "output_type": "error",
     "traceback": [
      "\u001b[0;31m---------------------------------------------------------------------------\u001b[0m",
      "\u001b[0;31mTypeError\u001b[0m                                 Traceback (most recent call last)",
      "\u001b[0;32m<ipython-input-85-4a22e26ff3bc>\u001b[0m in \u001b[0;36m<module>\u001b[0;34m()\u001b[0m\n\u001b[1;32m      2\u001b[0m \u001b[0mfig\u001b[0m\u001b[0;34m,\u001b[0m \u001b[0maxes\u001b[0m \u001b[0;34m=\u001b[0m \u001b[0mplt\u001b[0m\u001b[0;34m.\u001b[0m\u001b[0msubplots\u001b[0m\u001b[0;34m(\u001b[0m\u001b[0mfigsize\u001b[0m\u001b[0;34m=\u001b[0m\u001b[0;34m(\u001b[0m\u001b[0;36m7\u001b[0m\u001b[0;34m,\u001b[0m\u001b[0;36m12\u001b[0m\u001b[0;34m)\u001b[0m\u001b[0;34m,\u001b[0m \u001b[0mnrows\u001b[0m\u001b[0;34m=\u001b[0m\u001b[0mrows\u001b[0m\u001b[0;34m,\u001b[0m \u001b[0mncols\u001b[0m \u001b[0;34m=\u001b[0m \u001b[0mcols\u001b[0m\u001b[0;34m,\u001b[0m \u001b[0msharex\u001b[0m \u001b[0;34m=\u001b[0m \u001b[0;32mTrue\u001b[0m\u001b[0;34m,\u001b[0m \u001b[0msharey\u001b[0m\u001b[0;34m=\u001b[0m\u001b[0;32mTrue\u001b[0m\u001b[0;34m)\u001b[0m\u001b[0;34m\u001b[0m\u001b[0m\n\u001b[1;32m      3\u001b[0m \u001b[0;34m\u001b[0m\u001b[0m\n\u001b[0;32m----> 4\u001b[0;31m \u001b[0;32mfor\u001b[0m \u001b[0msample\u001b[0m\u001b[0;34m,\u001b[0m \u001b[0max_row\u001b[0m \u001b[0;32min\u001b[0m \u001b[0mzip\u001b[0m\u001b[0;34m(\u001b[0m\u001b[0msamples\u001b[0m\u001b[0;34m[\u001b[0m\u001b[0;34m:\u001b[0m\u001b[0;34m:\u001b[0m\u001b[0mint\u001b[0m\u001b[0;34m(\u001b[0m\u001b[0mlen\u001b[0m\u001b[0;34m(\u001b[0m\u001b[0msamples\u001b[0m\u001b[0;34m)\u001b[0m\u001b[0;34m/\u001b[0m\u001b[0mrows\u001b[0m\u001b[0;34m)\u001b[0m\u001b[0;34m]\u001b[0m\u001b[0;34m,\u001b[0m \u001b[0maxes\u001b[0m\u001b[0;34m)\u001b[0m\u001b[0;34m:\u001b[0m\u001b[0;34m\u001b[0m\u001b[0m\n\u001b[0m\u001b[1;32m      5\u001b[0m     \u001b[0;32mfor\u001b[0m \u001b[0mimg\u001b[0m\u001b[0;34m,\u001b[0m \u001b[0max\u001b[0m \u001b[0;32min\u001b[0m \u001b[0mzip\u001b[0m\u001b[0;34m(\u001b[0m\u001b[0msample\u001b[0m\u001b[0;34m[\u001b[0m\u001b[0;34m:\u001b[0m\u001b[0;34m:\u001b[0m\u001b[0mint\u001b[0m\u001b[0;34m(\u001b[0m\u001b[0mlen\u001b[0m\u001b[0;34m(\u001b[0m\u001b[0msample\u001b[0m\u001b[0;34m)\u001b[0m\u001b[0;34m/\u001b[0m\u001b[0mcols\u001b[0m\u001b[0;34m)\u001b[0m\u001b[0;34m]\u001b[0m\u001b[0;34m,\u001b[0m \u001b[0max_row\u001b[0m\u001b[0;34m)\u001b[0m\u001b[0;34m:\u001b[0m\u001b[0;34m\u001b[0m\u001b[0m\n\u001b[1;32m      6\u001b[0m         \u001b[0max\u001b[0m\u001b[0;34m.\u001b[0m\u001b[0mimshow\u001b[0m\u001b[0;34m(\u001b[0m\u001b[0mimg\u001b[0m\u001b[0;34m.\u001b[0m\u001b[0mreshape\u001b[0m\u001b[0;34m(\u001b[0m\u001b[0;36m28\u001b[0m\u001b[0;34m,\u001b[0m\u001b[0;36m28\u001b[0m\u001b[0;34m)\u001b[0m\u001b[0;34m,\u001b[0m \u001b[0mcmap\u001b[0m\u001b[0;34m=\u001b[0m\u001b[0;34m\"Greys_r\"\u001b[0m\u001b[0;34m)\u001b[0m\u001b[0;34m\u001b[0m\u001b[0m\n",
      "\u001b[0;31mTypeError\u001b[0m: object of type 'numpy.float32' has no len()"
     ]
    },
    {
     "data": {
      "image/png": "[encoded data removed]",
      "text/plain": [
       "<matplotlib.figure.Figure at 0x1c21057cc0>"
      ]
     },
     "metadata": {},
     "output_type": "display_data"
    }
   ],
   "source": [
    "rows, cols = 10, 6\n",
    "fig, axes = plt.subplots(figsize=(7,12), nrows=rows, ncols = cols, sharex = True, sharey=True)\n",
    "\n",
    "for sample, ax_row in zip(samples[::int(len(samples)/rows)], axes):\n",
    "    for img, ax in zip(sample[::int(len(sample)/cols)], ax_row):\n",
    "        ax.imshow(img.reshape(28,28), cmap=\"Greys_r\")\n",
    "        ax.xaxis.set_visible(False)\n",
    "        ax.yaxis.set_visible(False)"
   ]
  },
  {
   "cell_type": "code",
   "execution_count": null,
   "metadata": {},
   "outputs": [],
   "source": [
    "type(sample)"
   ]
  },
  {
   "cell_type": "markdown",
   "metadata": {},
   "source": [
    "チェックポイントファイルから機械に画像を生成させる"
   ]
  },
  {
   "cell_type": "code",
   "execution_count": 90,
   "metadata": {},
   "outputs": [
    {
     "name": "stdout",
     "output_type": "stream",
     "text": [
      "INFO:tensorflow:Restoring parameters from checkpoints/genetator.ckpt\n"
     ]
    },
    {
     "data": {
      "image/png": "[encoded data removed]",
      "text/plain": [
       "<matplotlib.figure.Figure at 0x1c20807b38>"
      ]
     },
     "metadata": {},
     "output_type": "display_data"
    }
   ],
   "source": [
    "saver = tf.train.Saver(var_list = g_vars)\n",
    "with tf.Session() as sess:\n",
    "    saver.restore(sess, tf.train.latest_checkpoint('checkpoints'))\n",
    "    sample_z = np.random.uniform(-1,1,size=(16,z_size))\n",
    "    gen_samples = sess.run(generator(input_z,input_size, n_units=g_hidden_size,reuse=True,\n",
    "                                    alpha=alpha),feed_dict={input_z:sample_z})\n",
    "_= view_samples(0, [gen_samples])"
   ]
  },
  {
   "cell_type": "code",
   "execution_count": null,
   "metadata": {
    "collapsed": true
   },
   "outputs": [],
   "source": []
  }
 ],
 "metadata": {
  "kernelspec": {
   "display_name": "Python 3",
   "language": "python",
   "name": "python3"
  },
  "language_info": {
   "codemirror_mode": {
    "name": "ipython",
    "version": 3
   },
   "file_extension": ".py",
   "mimetype": "text/x-python",
   "name": "python",
   "nbconvert_exporter": "python",
   "pygments_lexer": "ipython3",
   "version": "3.6.3"
  }
 },
 "nbformat": 4,
 "nbformat_minor": 2
}
